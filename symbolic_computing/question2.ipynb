{
 "cells": [
  {
   "cell_type": "markdown",
   "metadata": {},
   "source": [
    "In AI applications, dimensionality reduction is done using eigenvalues of matrices.\n",
    "    Given a feature matrix:\n",
    "\n",
    "A = \\begin{bmatrix} 2 & 1 \\ 1 & 3 \\end{bmatrix}\n",
    "\n",
    "    ] Task:\n",
    "\n",
    "        Compute the symbolic determinant of AA.\n",
    "        Find the eigenvalues of AA using symbolic computation.\n",
    "        Verify that the eigenvalues satisfy the characteristic equation."
   ]
  },
  {
   "cell_type": "code",
   "execution_count": 17,
   "metadata": {},
   "outputs": [
    {
     "data": {
      "text/latex": [
       "$\\displaystyle 5$"
      ],
      "text/plain": [
       "5"
      ]
     },
     "execution_count": 17,
     "metadata": {},
     "output_type": "execute_result"
    }
   ],
   "source": [
    "from sympy import symbols, expand, factor, simplify, diff, integrate, solve,Matrix,det\n",
    "\n",
    "A = Matrix([[2,1],[1,3]])\n",
    "\n",
    "determinant= det(A)\n",
    "determinant\n"
   ]
  },
  {
   "cell_type": "code",
   "execution_count": 18,
   "metadata": {},
   "outputs": [
    {
     "data": {
      "text/plain": [
       "{5/2 - sqrt(5)/2: 1, sqrt(5)/2 + 5/2: 1}"
      ]
     },
     "execution_count": 18,
     "metadata": {},
     "output_type": "execute_result"
    }
   ],
   "source": [
    "#get eigenvalues. This  method returns a dictionary where eigenvalues are the keys \n",
    "# and the number of times they appear is the value\n",
    "eigenvalues=A.eigenvals()\n",
    "eigenvalues\n",
    "\n"
   ]
  },
  {
   "cell_type": "markdown",
   "metadata": {},
   "source": [
    "To  prove eigenvalues we apply the method:\n",
    "det(matrix A-λI) = 0; where λ is eigenvalue and I is identity matrix"
   ]
  },
  {
   "cell_type": "code",
   "execution_count": 19,
   "metadata": {},
   "outputs": [
    {
     "name": "stdout",
     "output_type": "stream",
     "text": [
      "Eigen value\n",
      "Eigen value\n"
     ]
    }
   ],
   "source": [
    "#Extract eigenvalues and assign to a list\n",
    "eigenvalues_list = list(eigenvalues.keys())\n",
    "\n",
    "\n",
    "#identity matrix\n",
    "I =Matrix([[1,0],[0,1]])\n",
    "\n",
    "#loop the list of eigenvalues and apply the formula\n",
    "for eigen in eigenvalues_list:\n",
    "    if not det(A- eigen*I):\n",
    "        print('Eigen value')\n",
    "    else:\n",
    "        print('Error! not eigen value')\n",
    "\n"
   ]
  }
 ],
 "metadata": {
  "kernelspec": {
   "display_name": "Python 3",
   "language": "python",
   "name": "python3"
  },
  "language_info": {
   "codemirror_mode": {
    "name": "ipython",
    "version": 3
   },
   "file_extension": ".py",
   "mimetype": "text/x-python",
   "name": "python",
   "nbconvert_exporter": "python",
   "pygments_lexer": "ipython3",
   "version": "3.13.0"
  }
 },
 "nbformat": 4,
 "nbformat_minor": 2
}
