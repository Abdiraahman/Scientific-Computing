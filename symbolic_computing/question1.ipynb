{
 "cells": [
  {
   "cell_type": "markdown",
   "metadata": {},
   "source": [
    "A machine learning model at JKUAT is trained using the loss function:\n",
    "\n",
    "L(x) = 3x^2 + 2x - 5\n",
    "\n",
    "    ] Task:\n",
    "\n",
    "        Compute the symbolic derivative of L(x)L(x) to find the gradient.\n",
    "        Solve for xx when the gradient is zero (optimal solution).\n",
    "        Use second derivatives to check if it is a minimum or maximum."
   ]
  },
  {
   "cell_type": "code",
   "execution_count": 4,
   "metadata": {},
   "outputs": [
    {
     "data": {
      "text/latex": [
       "$\\displaystyle 6 x + 2$"
      ],
      "text/plain": [
       "6*x + 2"
      ]
     },
     "execution_count": 4,
     "metadata": {},
     "output_type": "execute_result"
    }
   ],
   "source": [
    "from sympy import symbols, expand, factor, simplify, diff, integrate, solve,Matrix\n",
    "\n",
    "x = symbols('x')\n",
    "expression = 3*x**2 + 2*x - 5\n",
    "\n",
    "#1st derivative\n",
    "diff_expression = diff(expression)\n",
    "diff_expression"
   ]
  },
  {
   "cell_type": "code",
   "execution_count": 5,
   "metadata": {},
   "outputs": [
    {
     "data": {
      "text/plain": [
       "[-1/3]"
      ]
     },
     "execution_count": 5,
     "metadata": {},
     "output_type": "execute_result"
    }
   ],
   "source": [
    "x_solution = solve(diff_expression)\n",
    "x_solution"
   ]
  },
  {
   "cell_type": "code",
   "execution_count": 6,
   "metadata": {},
   "outputs": [
    {
     "name": "stdout",
     "output_type": "stream",
     "text": [
      "Minimum point\n"
     ]
    }
   ],
   "source": [
    "#second derivative\n",
    "derivative2 = diff(diff_expression)\n",
    "\n",
    "#determine whether maximum or minimum\n",
    "if derivative2>0:\n",
    "    print('Minimum point')\n",
    "else:\n",
    "    print('Maximum point')\n"
   ]
  }
 ],
 "metadata": {
  "kernelspec": {
   "display_name": "Python 3",
   "language": "python",
   "name": "python3"
  },
  "language_info": {
   "codemirror_mode": {
    "name": "ipython",
    "version": 3
   },
   "file_extension": ".py",
   "mimetype": "text/x-python",
   "name": "python",
   "nbconvert_exporter": "python",
   "pygments_lexer": "ipython3",
   "version": "3.13.0"
  }
 },
 "nbformat": 4,
 "nbformat_minor": 2
}
