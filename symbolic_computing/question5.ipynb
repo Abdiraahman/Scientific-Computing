{
 "cells": [
  {
   "cell_type": "code",
   "execution_count": null,
   "metadata": {},
   "outputs": [
    {
     "data": {
      "text/plain": [
       "13"
      ]
     },
     "execution_count": 3,
     "metadata": {},
     "output_type": "execute_result"
    }
   ],
   "source": [
    "from sympy import symbols, expand, mod_inverse\n",
    "\n",
    "#ecnryption method\n",
    "def encryption(P,e,N):\n",
    "    return (P**e)%N\n",
    "\n",
    "#decryption method\n",
    "def decrypt(P, N):\n",
    "    return mod_inverse(P,N)\n",
    "\n",
    "P,e,N = 7,3,33\n",
    "\n",
    "C = encryption(P,e,N)\n",
    "C"
   ]
  },
  {
   "cell_type": "code",
   "execution_count": null,
   "metadata": {},
   "outputs": [
    {
     "name": "stdout",
     "output_type": "stream",
     "text": [
      "Modular inverse of 7 is: 19\n"
     ]
    }
   ],
   "source": [
    "try:\n",
    "    P_inverse = decrypt(P,N)\n",
    "    print(f\"Modular inverse of {P} is: {P_inverse}\")\n",
    "except:\n",
    "    print(f\"Modular inverse of {P} does not exist\")"
   ]
  }
 ],
 "metadata": {
  "kernelspec": {
   "display_name": "Python 3",
   "language": "python",
   "name": "python3"
  },
  "language_info": {
   "codemirror_mode": {
    "name": "ipython",
    "version": 3
   },
   "file_extension": ".py",
   "mimetype": "text/x-python",
   "name": "python",
   "nbconvert_exporter": "python",
   "pygments_lexer": "ipython3",
   "version": "3.13.0"
  }
 },
 "nbformat": 4,
 "nbformat_minor": 2
}
