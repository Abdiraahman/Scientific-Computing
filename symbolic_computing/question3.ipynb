{
 "cells": [
  {
   "cell_type": "markdown",
   "metadata": {},
   "source": [
    "In a control system, the Laplace Transform of the system equation is:\n",
    "\n",
    "H(s) = \\frac{1}{s^2 + 3s + 2}\n",
    "\n",
    "    ] Task:\n",
    "\n",
    "        Factor the denominator symbolically.\n",
    "        Compute the inverse Laplace Transform to find h(t)h(t).\n",
    "        Find the poles of the system."
   ]
  },
  {
   "cell_type": "code",
   "execution_count": 4,
   "metadata": {},
   "outputs": [
    {
     "data": {
      "text/latex": [
       "$\\displaystyle \\left(s + 1\\right) \\left(s + 2\\right)$"
      ],
      "text/plain": [
       "(s + 1)*(s + 2)"
      ]
     },
     "execution_count": 4,
     "metadata": {},
     "output_type": "execute_result"
    }
   ],
   "source": [
    "from sympy import symbols, expand, factor, simplify, diff, integrate, solve,Matrix,det, inverse_laplace_transform\n",
    "t,s = symbols('t s')\n",
    "h=1/(s**2 + 3*s + 2)\n",
    "\n",
    "#as_numer_denom() returns numerator and denominator\n",
    "num, denominator = h.as_numer_denom()\n",
    "factor(denominator)\n"
   ]
  },
  {
   "cell_type": "code",
   "execution_count": 5,
   "metadata": {},
   "outputs": [
    {
     "data": {
      "text/latex": [
       "$\\displaystyle e^{- t} \\theta\\left(t\\right) - e^{- 2 t} \\theta\\left(t\\right)$"
      ],
      "text/plain": [
       "exp(-t)*Heaviside(t) - exp(-2*t)*Heaviside(t)"
      ]
     },
     "execution_count": 5,
     "metadata": {},
     "output_type": "execute_result"
    }
   ],
   "source": [
    "f = inverse_laplace_transform(h, s, t)\n",
    "f\n"
   ]
  },
  {
   "cell_type": "code",
   "execution_count": 6,
   "metadata": {},
   "outputs": [
    {
     "data": {
      "text/plain": [
       "[-2, -1]"
      ]
     },
     "execution_count": 6,
     "metadata": {},
     "output_type": "execute_result"
    }
   ],
   "source": [
    "#poles are values that makes the denomitor to be zero\n",
    "poles = solve(denominator)\n",
    "poles"
   ]
  }
 ],
 "metadata": {
  "kernelspec": {
   "display_name": "Python 3",
   "language": "python",
   "name": "python3"
  },
  "language_info": {
   "codemirror_mode": {
    "name": "ipython",
    "version": 3
   },
   "file_extension": ".py",
   "mimetype": "text/x-python",
   "name": "python",
   "nbconvert_exporter": "python",
   "pygments_lexer": "ipython3",
   "version": "3.13.0"
  }
 },
 "nbformat": 4,
 "nbformat_minor": 2
}
