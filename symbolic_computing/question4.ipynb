{
 "cells": [
  {
   "cell_type": "markdown",
   "metadata": {},
   "source": [
    "A startup incubator at JKUAT is optimizing the cost function:\n",
    "\n",
    "C(x) = 5x^3 - 10x^2 + 4x + 3\n",
    "\n",
    "    ] where xx is the number of AI startups funded.\n",
    "\n",
    "    Task:\n",
    "\n",
    "        Find the symbolic derivative of C(x)C(x).\n",
    "        Solve for xx when the cost is minimized.\n",
    "        Interpret the result for decision-making."
   ]
  },
  {
   "cell_type": "code",
   "execution_count": 12,
   "metadata": {},
   "outputs": [
    {
     "data": {
      "text/latex": [
       "$\\displaystyle 15 x^{2} - 20 x + 4$"
      ],
      "text/plain": [
       "15*x**2 - 20*x + 4"
      ]
     },
     "execution_count": 12,
     "metadata": {},
     "output_type": "execute_result"
    }
   ],
   "source": [
    "from sympy import symbols, expand, factor, simplify, diff, integrate, solve,Matrix,det, inverse_laplace_transform, evalf\n",
    "x = symbols('x')\n",
    "\n",
    "C = 5*x**3 - 10*x**2 + 4*x +3\n",
    "\n",
    "derivative = diff(C,x)\n",
    "derivative"
   ]
  },
  {
   "cell_type": "code",
   "execution_count": 13,
   "metadata": {},
   "outputs": [
    {
     "name": "stdout",
     "output_type": "stream",
     "text": [
      "To minimize the cost, JKUAT incubator should fund 12.6491106406735 startups\n"
     ]
    }
   ],
   "source": [
    "critical_points = solve(derivative)\n",
    "derivative2 = diff(derivative)\n",
    "derivative2_values = [derivative2.subs(x, point) for point in critical_points]\n",
    "\n",
    "\n",
    "#check  the minimum critical point\n",
    "for value in derivative2_values:\n",
    "    if value > 0:\n",
    "        minimum_startups=value\n",
    "\n",
    "#Interpretation\n",
    "print(f\"To minimize the cost, JKUAT incubator should fund {minimum_startups.evalf()} startups\")\n",
    "\n",
    "\n"
   ]
  }
 ],
 "metadata": {
  "kernelspec": {
   "display_name": "Python 3",
   "language": "python",
   "name": "python3"
  },
  "language_info": {
   "codemirror_mode": {
    "name": "ipython",
    "version": 3
   },
   "file_extension": ".py",
   "mimetype": "text/x-python",
   "name": "python",
   "nbconvert_exporter": "python",
   "pygments_lexer": "ipython3",
   "version": "3.13.0"
  }
 },
 "nbformat": 4,
 "nbformat_minor": 2
}
